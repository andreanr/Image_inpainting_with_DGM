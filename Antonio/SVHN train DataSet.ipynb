{
 "cells": [
  {
   "cell_type": "code",
   "execution_count": 75,
   "metadata": {},
   "outputs": [],
   "source": [
    "import numpy as np\n",
    "import tensorflow as tf\n",
    "import cv2\n",
    "from google.cloud import storage\n",
    "import io\n",
    "from PIL import Image\n",
    "\n",
    "import sys, os, inspect\n",
    "currentdir = os.path.dirname(os.path.abspath(inspect.getfile(inspect.currentframe())))\n",
    "parentdir = os.path.dirname(currentdir)\n",
    "sys.path.insert(2,parentdir) \n",
    "from model.image_utils import *"
   ]
  },
  {
   "cell_type": "code",
   "execution_count": 76,
   "metadata": {},
   "outputs": [],
   "source": [
    "client = storage.Client()"
   ]
  },
  {
   "cell_type": "code",
   "execution_count": 77,
   "metadata": {},
   "outputs": [],
   "source": [
    "bucket = client.get_bucket('inpainting-final-project')"
   ]
  },
  {
   "cell_type": "code",
   "execution_count": 78,
   "metadata": {},
   "outputs": [],
   "source": [
    "blobs = bucket.list_blobs(prefix= 'images/SVHN')"
   ]
  },
  {
   "cell_type": "code",
   "execution_count": 79,
   "metadata": {},
   "outputs": [
    {
     "name": "stdout",
     "output_type": "stream",
     "text": [
      "<Blob: inpainting-final-project, images/SVHN/test_32x32.mat>\n",
      "<Blob: inpainting-final-project, images/SVHN/train_32x32.mat>\n"
     ]
    }
   ],
   "source": [
    "s = []\n",
    "for blob in blobs:\n",
    "    blob = bucket.get_blob(blob.name)\n",
    "    print(blob)\n",
    "    s.append(blob.download_as_string())"
   ]
  },
  {
   "cell_type": "code",
   "execution_count": null,
   "metadata": {},
   "outputs": [],
   "source": [
    "type(s)"
   ]
  },
  {
   "cell_type": "code",
   "execution_count": null,
   "metadata": {},
   "outputs": [],
   "source": [
    "def load_images_from_bucket(bucket='inpainting-final-project', path='images/Cars/cars_train/'):\n",
    "    \"\"\"\n",
    "    Loading the images from the Google Cloud bucket\n",
    "    \"\"\"\n",
    "    # Open bucket\n",
    "    client = storage.Client()\n",
    "    bucket = client.get_bucket('inpainting-final-project')\n",
    "    blobs = bucket.list_blobs(prefix='images/Cars/cars_train/')\n",
    "    images = [] \n",
    "    # Append images\n",
    "    try:\n",
    "        for blob in blobs:\n",
    "            blob = bucket.get_blob(blob.name)\n",
    "            s = blob.download_as_string()\n",
    "            img = Image.open(io.BytesIO(s))\n",
    "            \n",
    "            #resize the image to (64,64,3) and normalize it to between -1 and 1\n",
    "            resized_img = cv2.resize(np.asarray(img),(64,64))/127.5-1.0\n",
    "            \n",
    "            if resized_img.shape == (64,64,3):\n",
    "                images.append(resized_img)\n",
    "    except:\n",
    "        pass\n",
    "    return np.asarray(images)"
   ]
  },
  {
   "cell_type": "code",
   "execution_count": null,
   "metadata": {},
   "outputs": [],
   "source": [
    "svhn_testx = svhn_test['X'] # test images\n",
    "svhn_testy = svhn_test['y'] # test labels\n",
    "svhn_trainx = svhn_train['X'] # train images\n",
    "svhn_trainy = svhn_train['y'] # train labels"
   ]
  },
  {
   "cell_type": "code",
   "execution_count": 13,
   "metadata": {},
   "outputs": [],
   "source": [
    "sys.path.append('../model')\n",
    "import image_utils"
   ]
  },
  {
   "cell_type": "code",
   "execution_count": 17,
   "metadata": {},
   "outputs": [
    {
     "name": "stderr",
     "output_type": "stream",
     "text": [
      "Clipping input data to the valid range for imshow with RGB data ([0..1] for floats or [0..255] for integers).\n"
     ]
    },
    {
     "data": {
      "image/png": "[encoded data removed]",
      "text/plain": [
       "<Figure size 432x288 with 1 Axes>"
      ]
     },
     "metadata": {},
     "output_type": "display_data"
    }
   ],
   "source": [
    "plt.imshow(svhn_test[0])\n",
    "plt.show()"
   ]
  },
  {
   "cell_type": "code",
   "execution_count": null,
   "metadata": {},
   "outputs": [],
   "source": []
  }
 ],
 "metadata": {
  "kernelspec": {
   "display_name": "Python 3",
   "language": "python",
   "name": "python3"
  },
  "language_info": {
   "codemirror_mode": {
    "name": "ipython",
    "version": 3
   },
   "file_extension": ".py",
   "mimetype": "text/x-python",
   "name": "python",
   "nbconvert_exporter": "python",
   "pygments_lexer": "ipython3",
   "version": "3.6.5"
  }
 },
 "nbformat": 4,
 "nbformat_minor": 2
}
