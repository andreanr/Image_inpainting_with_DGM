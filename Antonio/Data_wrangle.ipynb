{
 "cells": [
  {
   "cell_type": "markdown",
   "metadata": {},
   "source": [
    "#### Code for data wrangling. \n",
    "\n",
    "##### Here we will obtain the data from the SVHN Dataset and the Celeb A dataset"
   ]
  },
  {
   "cell_type": "markdown",
   "metadata": {},
   "source": [
    "## SVHN Dataset"
   ]
  },
  {
   "cell_type": "code",
   "execution_count": 21,
   "metadata": {},
   "outputs": [],
   "source": [
    "from scipy.io import loadmat # Library to get mat files from SVHN Dataset\n",
    "import matplotlib.image as img # Get images and make them matrices from Celeb A\n",
    "from os import listdir # Get jpg images from Celeb A\n",
    "from os.path import isfile, join # Just to get structure of files\n",
    "import numpy as np\n",
    "from tempfile import TemporaryFile # To save matrix of images"
   ]
  },
  {
   "cell_type": "code",
   "execution_count": 5,
   "metadata": {},
   "outputs": [],
   "source": [
    "svhn_test = loadmat('SVHN/test_32X32.mat') # SVHN test set\n",
    "svhn_testx = svhn_test['X'] # test images\n",
    "svhn_testy = svhn_test['y'] # test labels\n",
    "svhn_train = loadmat('SVHN/train_32X32.mat') # SVHN train set\n",
    "svhn_trainx = svhn_train['X'] # train images\n",
    "svhn_trainy = svhn_train['y'] # train labels"
   ]
  },
  {
   "cell_type": "markdown",
   "metadata": {},
   "source": [
    "## Celeb A"
   ]
  },
  {
   "cell_type": "code",
   "execution_count": null,
   "metadata": {},
   "outputs": [],
   "source": [
    "path = 'Celeb_A/Images'\n",
    "files = [f for f in listdir(path) if isfile(join(path, f))] # Getting every image in the folder"
   ]
  },
  {
   "cell_type": "code",
   "execution_count": 11,
   "metadata": {},
   "outputs": [],
   "source": [
    "celeb_y = []\n",
    "for file in files: # Making it a matrix with values instead of png\n",
    "    celeb_y.append(img.imread(path+'/'+file))"
   ]
  },
  {
   "cell_type": "raw",
   "metadata": {},
   "source": [
    " # We will save it in order for us not to re run the code again. \n",
    "np.save(path+'/celeba_matrix',celeb_y)"
   ]
  },
  {
   "cell_type": "code",
   "execution_count": 23,
   "metadata": {},
   "outputs": [],
   "source": []
  },
  {
   "cell_type": "markdown",
   "metadata": {},
   "source": [
    "### Making holes in the images"
   ]
  },
  {
   "cell_type": "code",
   "execution_count": 27,
   "metadata": {},
   "outputs": [],
   "source": []
  },
  {
   "cell_type": "code",
   "execution_count": null,
   "metadata": {},
   "outputs": [],
   "source": []
  }
 ],
 "metadata": {
  "kernelspec": {
   "display_name": "Python 3",
   "language": "python",
   "name": "python3"
  },
  "language_info": {
   "codemirror_mode": {
    "name": "ipython",
    "version": 3
   },
   "file_extension": ".py",
   "mimetype": "text/x-python",
   "name": "python",
   "nbconvert_exporter": "python",
   "pygments_lexer": "ipython3",
   "version": "3.6.5"
  }
 },
 "nbformat": 4,
 "nbformat_minor": 2
}
