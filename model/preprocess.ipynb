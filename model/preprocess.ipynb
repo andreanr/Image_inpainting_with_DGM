{
 "cells": [
  {
   "cell_type": "code",
   "execution_count": null,
   "metadata": {},
   "outputs": [],
   "source": [
    "def createWeightedMask(mask, nsize=7):\n",
    "    \"\"\"Takes binary weighted mask to create weighted mask as described in \n",
    "    paper.\n",
    "    Arguments:\n",
    "        mask - binary mask input. numpy float32 array\n",
    "        nsize - pixel neighbourhood size. default = 7\n",
    "    \"\"\"\n",
    "    ker = np.ones((nsize,nsize), dtype=np.float32)\n",
    "    ker = ker/np.sum(ker)\n",
    "    wmask = mask * convolve2d(mask, ker, mode='same', boundary='symm')\n",
    "    return wmask"
   ]
  },
  {
   "cell_type": "code",
   "execution_count": null,
   "metadata": {},
   "outputs": [],
   "source": [
    "def preprocess(self, images, imask, useWeightedMask = True, nsize=7):\n",
    "        \"\"\"Default preprocessing pipeline\n",
    "        Prepare the data to be fed to the network. Weighted mask is computed\n",
    "        and images and masks are duplicated to fill the batch.\n",
    "        Arguments:\n",
    "            image - input image\n",
    "            mask - input mask\n",
    "        Returns:\n",
    "            None\n",
    "        \"\"\"\n",
    "        images = ModelInpaint.imtransform(images)\n",
    "        if useWeightedMask:\n",
    "            mask = ModelInpaint.createWeightedMask(imask, nsize)\n",
    "        else:\n",
    "            mask = imask\n",
    "        mask = ModelInpaint.create3ChannelMask(mask)\n",
    "        \n",
    "        bin_mask = ModelInpaint.binarizeMask(imask, dtype='uint8')\n",
    "        self.bin_mask = ModelInpaint.create3ChannelMask(bin_mask)\n",
    "\n",
    "        self.masks_data = np.repeat(mask[np.newaxis, :, :, :],\n",
    "                                    self.batch_size,\n",
    "                                    axis=0)\n",
    "\n",
    "        #Generate multiple candidates for completion if single image is given\n",
    "        if len(images.shape) is 3:\n",
    "            self.images_data = np.repeat(images[np.newaxis, :, :, :],\n",
    "                                         self.batch_size,\n",
    "                                         axis=0)\n",
    "        elif len(images.shape) is 4:\n",
    "            #Ensure batch is filled\n",
    "            num_images = images.shape[0]\n",
    "            self.images_data = np.repeat(images[np.newaxis, 0, :, :, :],\n",
    "                                         self.batch_size,\n",
    "                                         axis=0)\n",
    "            ncpy = min(num_images, self.batch_size)\n",
    "            self.images_data[:ncpy, :, :, :] = images[:ncpy, :, :, :].copy()"
   ]
  },
  {
   "cell_type": "code",
   "execution_count": null,
   "metadata": {},
   "outputs": [],
   "source": []
  }
 ],
 "metadata": {
  "kernelspec": {
   "display_name": "Python 3",
   "language": "python",
   "name": "python3"
  },
  "language_info": {
   "codemirror_mode": {
    "name": "ipython",
    "version": 3
   },
   "file_extension": ".py",
   "mimetype": "text/x-python",
   "name": "python",
   "nbconvert_exporter": "python",
   "pygments_lexer": "ipython3",
   "version": "3.6.5"
  }
 },
 "nbformat": 4,
 "nbformat_minor": 2
}
